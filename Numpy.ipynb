{
  "cells": [
    {
      "cell_type": "code",
      "execution_count": 2,
      "metadata": {
        "id": "hye7LwT85YvQ"
      },
      "outputs": [],
      "source": [
        "import numpy as np\n"
      ]
    },
    {
      "cell_type": "markdown",
      "metadata": {
        "id": "Z1CAY_Px6QXA"
      },
      "source": [
        "Why numpy(Numerical Python)? :- As a we know list is an alternative of array.\n",
        "But when data science introduced then large number of data is being stored in list but time complexity of list is very high because list use dynamic and referential array concept.That's why numpy is introduced to solve this problem because it is memory efficient,used for working with array.A Numpy array is like special list in python with same data type.\n",
        "\n",
        "So,we will create Array and deal with array in numpy."
      ]
    },
    {
      "cell_type": "code",
      "execution_count": 3,
      "metadata": {
        "colab": {
          "base_uri": "https://localhost:8080/"
        },
        "id": "GwB1yFEn539K",
        "outputId": "766072c5-415e-4b38-ca5d-c17769b9e9a6"
      },
      "outputs": [
        {
          "data": {
            "text/plain": [
              "array([25, 41, 63, 66, 85, 74])"
            ]
          },
          "execution_count": 3,
          "metadata": {},
          "output_type": "execute_result"
        }
      ],
      "source": [
        "# creation of an araay\n",
        "arr = np.array([25,41,63,66,85,74])\n",
        "arr"
      ]
    },
    {
      "cell_type": "code",
      "execution_count": 4,
      "metadata": {
        "colab": {
          "base_uri": "https://localhost:8080/"
        },
        "id": "IvYvizUE-GZm",
        "outputId": "f5b61308-8f68-4fc3-9123-f40b6111554d"
      },
      "outputs": [
        {
          "data": {
            "text/plain": [
              "numpy.ndarray"
            ]
          },
          "execution_count": 4,
          "metadata": {},
          "output_type": "execute_result"
        }
      ],
      "source": [
        "type(arr)\n",
        "# ndarray -> n dimensional array"
      ]
    },
    {
      "cell_type": "code",
      "execution_count": 5,
      "metadata": {
        "colab": {
          "base_uri": "https://localhost:8080/"
        },
        "id": "AZ27aTY9-O9g",
        "outputId": "cd9dc4d4-eae8-42b0-834b-b7f64216b652"
      },
      "outputs": [
        {
          "data": {
            "text/plain": [
              "6"
            ]
          },
          "execution_count": 5,
          "metadata": {},
          "output_type": "execute_result"
        }
      ],
      "source": [
        "arr.size  #no. of item"
      ]
    },
    {
      "cell_type": "code",
      "execution_count": 6,
      "metadata": {
        "colab": {
          "base_uri": "https://localhost:8080/"
        },
        "id": "ioXLWcvV-bfO",
        "outputId": "9d974aee-eac5-4963-d9f0-c8b3dd29bed9"
      },
      "outputs": [
        {
          "data": {
            "text/plain": [
              "6"
            ]
          },
          "execution_count": 6,
          "metadata": {},
          "output_type": "execute_result"
        }
      ],
      "source": [
        "len(arr)"
      ]
    },
    {
      "cell_type": "code",
      "execution_count": 7,
      "metadata": {
        "colab": {
          "base_uri": "https://localhost:8080/"
        },
        "id": "GU4nQPHp-4K1",
        "outputId": "caae6a5e-73c1-4c25-d8d2-35f1df27521f"
      },
      "outputs": [
        {
          "data": {
            "text/plain": [
              "1"
            ]
          },
          "execution_count": 7,
          "metadata": {},
          "output_type": "execute_result"
        }
      ],
      "source": [
        "#  to check the dimension of array\n",
        "arr.ndim"
      ]
    },
    {
      "cell_type": "code",
      "execution_count": 8,
      "metadata": {
        "colab": {
          "base_uri": "https://localhost:8080/"
        },
        "id": "TbKhMcVX-_cR",
        "outputId": "06ef55bd-d2b8-48c3-ba03-937347d1d10c"
      },
      "outputs": [
        {
          "data": {
            "text/plain": [
              "dtype('int64')"
            ]
          },
          "execution_count": 8,
          "metadata": {},
          "output_type": "execute_result"
        }
      ],
      "source": [
        "# to check data type of array\n",
        "arr.dtype"
      ]
    },
    {
      "cell_type": "code",
      "execution_count": 9,
      "metadata": {
        "colab": {
          "base_uri": "https://localhost:8080/"
        },
        "id": "wEz3eZ1-_hki",
        "outputId": "9bbd6519-1acc-42bc-ad8e-b8aa68d703cd"
      },
      "outputs": [
        {
          "name": "stdout",
          "output_type": "stream",
          "text": [
            "2.0.0\n"
          ]
        }
      ],
      "source": [
        "print(np.__version__)"
      ]
    },
    {
      "cell_type": "code",
      "execution_count": 10,
      "metadata": {
        "id": "s82FuH74AVZd"
      },
      "outputs": [
        {
          "data": {
            "text/plain": [
              "array(['25', '41', '63', '66', '85', '74', 'upflairs', 'True'],\n",
              "      dtype='<U21')"
            ]
          },
          "execution_count": 10,
          "metadata": {},
          "output_type": "execute_result"
        }
      ],
      "source": [
        "arr2 =np.array([25,41,63,66,85,74,'upflairs',True])  # make all data into string\n",
        "arr2"
      ]
    },
    {
      "cell_type": "code",
      "execution_count": 11,
      "metadata": {
        "colab": {
          "base_uri": "https://localhost:8080/"
        },
        "id": "teszKAYJAmyx",
        "outputId": "4eb8d5fc-b660-41d8-afdf-684429ad4f13"
      },
      "outputs": [
        {
          "data": {
            "text/plain": [
              "dtype('<U21')"
            ]
          },
          "execution_count": 11,
          "metadata": {},
          "output_type": "execute_result"
        }
      ],
      "source": [
        "arr2.dtype"
      ]
    },
    {
      "cell_type": "code",
      "execution_count": 12,
      "metadata": {
        "colab": {
          "base_uri": "https://localhost:8080/"
        },
        "id": "hf2mDbIIAq5t",
        "outputId": "854c3aaa-d7ba-40d0-b809-a0a7e4c57582"
      },
      "outputs": [
        {
          "name": "stdout",
          "output_type": "stream",
          "text": [
            "['25' '41' '63' '66' '85' '74' 'upflairs' 'True']\n"
          ]
        }
      ],
      "source": [
        "print(arr2)"
      ]
    },
    {
      "cell_type": "markdown",
      "metadata": {
        "id": "At2atn0rA4_m"
      },
      "source": [
        "Indexing and slicing in this same as array as we learn earliar"
      ]
    },
    {
      "cell_type": "code",
      "execution_count": 13,
      "metadata": {
        "id": "xy_TsKBgBQq5"
      },
      "outputs": [
        {
          "name": "stdout",
          "output_type": "stream",
          "text": [
            "66\n",
            "74\n",
            "[63 66 85]\n",
            "[25 41 63 66 85 74]\n",
            "[63 66 85 74]\n",
            "[63 85]\n"
          ]
        }
      ],
      "source": [
        "# slicing is same as previous\n",
        "\n",
        "print(arr[3])\n",
        "print(arr[-1])\n",
        "print(arr[2:5])\n",
        "print(arr[:6]) # print from start\n",
        "print(arr[2:])  # print till end\n",
        "print(arr[2::2])  # jump is 2\n",
        "\n"
      ]
    },
    {
      "cell_type": "code",
      "execution_count": 14,
      "metadata": {
        "id": "947rMddEB3F7"
      },
      "outputs": [],
      "source": [
        "arr[-1]=53"
      ]
    },
    {
      "cell_type": "code",
      "execution_count": 15,
      "metadata": {
        "id": "3czYpW_XB8fh"
      },
      "outputs": [
        {
          "data": {
            "text/plain": [
              "array([27, 43, 65, 68, 87, 55])"
            ]
          },
          "execution_count": 15,
          "metadata": {},
          "output_type": "execute_result"
        }
      ],
      "source": [
        "arr + 2 # add 2 in every element"
      ]
    },
    {
      "cell_type": "markdown",
      "metadata": {
        "id": "pBdw-zyICM4o"
      },
      "source": [
        "Now let's consider 2 dimensional array(arrays under an array).It means there are several single dimension array in an array."
      ]
    },
    {
      "cell_type": "code",
      "execution_count": 16,
      "metadata": {
        "colab": {
          "base_uri": "https://localhost:8080/"
        },
        "id": "hggwoXvyCUBq",
        "outputId": "5ccece12-89f1-46b9-b0e1-3962360de4a0"
      },
      "outputs": [
        {
          "name": "stdout",
          "output_type": "stream",
          "text": [
            "3\n"
          ]
        }
      ],
      "source": [
        "ls = [[1,2,3],[4,5,6],[7,8,9]]\n",
        "type(ls)\n",
        "print(ls[0][2])"
      ]
    },
    {
      "cell_type": "code",
      "execution_count": 17,
      "metadata": {
        "colab": {
          "base_uri": "https://localhost:8080/"
        },
        "id": "SW9hfc0fDzSg",
        "outputId": "0678a635-8605-4979-818a-fca8d3a394e0"
      },
      "outputs": [
        {
          "name": "stdout",
          "output_type": "stream",
          "text": [
            "[[1 2 3]\n",
            " [4 5 6]\n",
            " [7 8 9]]\n",
            "2\n"
          ]
        }
      ],
      "source": [
        "arr3 = np.array(ls)  # here we convert list into array\n",
        "print(arr3)\n",
        "print(arr3.ndim)"
      ]
    },
    {
      "cell_type": "code",
      "execution_count": 18,
      "metadata": {
        "colab": {
          "base_uri": "https://localhost:8080/"
        },
        "id": "XTkbm_1GEPse",
        "outputId": "cee98b76-7969-49a7-f4eb-353af4e4c35f"
      },
      "outputs": [
        {
          "data": {
            "text/plain": [
              "(3, 3)"
            ]
          },
          "execution_count": 18,
          "metadata": {},
          "output_type": "execute_result"
        }
      ],
      "source": [
        "# find no. of rows and column\n",
        "arr3.shape  #(row,column)"
      ]
    },
    {
      "cell_type": "markdown",
      "metadata": {
        "id": "wzVCxU2REt8A"
      },
      "source": [
        "Excessing in 2 dimensional array."
      ]
    },
    {
      "cell_type": "code",
      "execution_count": 19,
      "metadata": {
        "colab": {
          "base_uri": "https://localhost:8080/",
          "height": 237
        },
        "id": "PHgrHRjyEyls",
        "outputId": "414fb121-7dba-460b-f45d-6348c4be314b"
      },
      "outputs": [
        {
          "name": "stdout",
          "output_type": "stream",
          "text": [
            "[1 2 3]\n",
            "2\n",
            "9\n"
          ]
        },
        {
          "ename": "IndexError",
          "evalue": "too many indices for array: array is 1-dimensional, but 2 were indexed",
          "output_type": "error",
          "traceback": [
            "\u001b[1;31m---------------------------------------------------------------------------\u001b[0m",
            "\u001b[1;31mIndexError\u001b[0m                                Traceback (most recent call last)",
            "Cell \u001b[1;32mIn[19], line 10\u001b[0m\n\u001b[0;32m      6\u001b[0m arr3[\u001b[38;5;241m0\u001b[39m:\u001b[38;5;241m2\u001b[39m]  \u001b[38;5;66;03m# it will show 0th and 1st index row\u001b[39;00m\n\u001b[0;32m      8\u001b[0m \u001b[38;5;66;03m# excessing multiple elements\u001b[39;00m\n\u001b[0;32m      9\u001b[0m \u001b[38;5;66;03m# arr[row,column] -> [row start:row end,col start : col end]\u001b[39;00m\n\u001b[1;32m---> 10\u001b[0m \u001b[38;5;28mprint\u001b[39m(\u001b[43marr\u001b[49m\u001b[43m[\u001b[49m\u001b[38;5;241;43m1\u001b[39;49m\u001b[43m:\u001b[49m\u001b[43m,\u001b[49m\u001b[38;5;241;43m1\u001b[39;49m\u001b[43m:\u001b[49m\u001b[43m]\u001b[49m)   \u001b[38;5;66;03m# print 5,6,8,9\u001b[39;00m\n",
            "\u001b[1;31mIndexError\u001b[0m: too many indices for array: array is 1-dimensional, but 2 were indexed"
          ]
        }
      ],
      "source": [
        "print(arr3[0])  #excessing single row\n",
        "print(arr3[0][1])  #excessing a single element\n",
        "print(arr3[2][2])\n",
        "\n",
        "# excessing multiple rows\n",
        "arr3[0:2]  # it will show 0th and 1st index row\n",
        "\n",
        "# excessing multiple elements\n",
        "# arr[row,column] -> [row start:row end,col start : col end]\n",
        "print(arr[1:,1:])   # print 5,6,8,9"
      ]
    },
    {
      "cell_type": "code",
      "execution_count": null,
      "metadata": {
        "colab": {
          "base_uri": "https://localhost:8080/"
        },
        "id": "i3_m67gXIfXp",
        "outputId": "d0d19473-fe42-43e4-93c0-637669d2c9ec"
      },
      "outputs": [
        {
          "data": {
            "text/plain": [
              "array([160,   1, 144,  27,  65,  49, 157, 105, 145, 109, 127, 169,  50,\n",
              "        34,  11,  77,  99, 147, 135, 175,  16, 127,  42,   8,   9,   3,\n",
              "       189, 162,  98, 185,  61, 151, 115,  40,  48, 127, 193, 166, 158,\n",
              "        58,  26,  85,  55,  81, 140,   3, 106,  32, 184, 199,  51,  63,\n",
              "       194, 108,  94, 100, 115, 196, 119,  51, 197, 158, 138, 102, 181,\n",
              "       106,  42, 193,  33,  71,  73, 102,  69, 167, 127, 164, 188,  23,\n",
              "       122,  64,  79, 173, 187, 107,   6, 194,  19,   1,  49, 144,  98,\n",
              "       173,  65, 115,  12, 155,  92,  82,   7,  75,  71,   1, 193,  75,\n",
              "        96, 124, 178, 129,  21,  13, 177, 112, 176,  92,  94,  11, 167,\n",
              "       144, 144,  53,  11,  16,  71, 108,  80,  99, 170, 125,  97, 139,\n",
              "       131,  92,  87, 180, 105,  39,  93,  21, 116, 176,  49,  15, 195,\n",
              "        51, 112, 101,  88, 106, 196, 181,  30,   1, 140, 139,  67, 199,\n",
              "       181, 128, 191, 110, 161, 166,  30, 155, 127, 138,  50,  36,  13,\n",
              "       153,  61,  66,  15,  75, 176,  40,  26,  71,  67,   2, 195, 156,\n",
              "       104,  88, 199, 117, 179,   6,  94, 168, 130, 132,  97,  53,  38,\n",
              "       108,  26,  67, 153,  33, 112,  43, 108, 159,  56,   2, 158,  33,\n",
              "       149, 184,  68, 132,  63,  56, 142, 165,   1,  91, 121, 172,  38,\n",
              "       188,  52,  15, 191,  31,  14, 158,  42,  29,  75, 101, 115, 164,\n",
              "       137, 165,  33,   3, 128, 184,  63,  32, 104,   9, 150, 121, 112,\n",
              "       166,  24, 104,  23, 111,  98, 164,  48,  96, 146, 111,  34,  46,\n",
              "        29, 144,  67, 110,   5, 193,  18, 118, 199, 137,  51, 193, 194,\n",
              "        57,  52,  81,  52,  28, 129,  65,  60,  52, 140, 116, 146,  17,\n",
              "        96, 190,  36, 141, 145,  54, 163, 155,  33, 100,  53, 104, 197,\n",
              "        19,  40,  65, 164,  77, 102, 170, 157, 177, 128,  13, 176,  22,\n",
              "        34, 139, 156, 116, 111, 124, 149, 170,  86,   3,  46,  36, 139,\n",
              "       128,  68,   2, 101,  90,  43, 106,  91, 181,  11, 194, 111,  79,\n",
              "       123, 140,  81, 122,  46,  57, 160, 109,  46,  66, 133,  50,  25,\n",
              "        79, 119,  23, 115,  88,  15, 102, 107,  95,   7, 108,  35, 112,\n",
              "       103, 110, 130, 160, 155,  61,  92,  76, 102, 160,  91,  18, 168,\n",
              "       145, 128,   1,  19,  16,  73,  32,  51,  36,  96, 198, 102, 157,\n",
              "       149, 154,  58,  45, 124, 146,  62, 165, 193,  56, 193, 149,  20,\n",
              "       180, 161,  57, 183,  62,  80,  61,  67, 148,  98, 150, 163,  61,\n",
              "        56, 114,  22, 155, 149,  39,  14,  11,  93,   6,   6, 162, 116,\n",
              "       115,  41,  73, 195,  72, 101,  67,  11, 154,  47,  78,   9, 103,\n",
              "       197,  19, 162,  70, 136, 186, 140, 167, 115,  68,  46,  71,  73,\n",
              "        89,  86, 112, 177, 111,  67,  28,  13, 189, 118, 189, 107,  75,\n",
              "       128, 140, 131,  42, 145, 172, 132,  82,  48,  21,  26, 132, 100,\n",
              "        57, 165,  85, 135,  80,  54, 125, 128, 110, 104,  79, 184, 173,\n",
              "        27, 131, 108, 184,  13, 125], dtype=int32)"
            ]
          },
          "execution_count": 19,
          "metadata": {},
          "output_type": "execute_result"
        }
      ],
      "source": [
        "arr4 = np.random.randint(1,200,500)   #it will instant make array of 500 element from 1 to 200\n",
        "arr4"
      ]
    },
    {
      "cell_type": "code",
      "execution_count": null,
      "metadata": {
        "colab": {
          "base_uri": "https://localhost:8080/"
        },
        "id": "xjfc3lc-I333",
        "outputId": "c841dd2e-171c-4909-99f8-403baf6f687b"
      },
      "outputs": [
        {
          "data": {
            "text/plain": [
              "246"
            ]
          },
          "execution_count": 23,
          "metadata": {},
          "output_type": "execute_result"
        }
      ],
      "source": [
        "# arr filter all those items that are less than equal to 100\n",
        "# count =0\n",
        "# for item in arr4 :\n",
        "#   if (item<100 or item == 100) :\n",
        "#     count+=1\n",
        "# print(count)\n",
        "\n",
        "# or we can do that\n",
        "\n",
        "arr4<=100  # give true and false in array\n",
        "arr4[arr4<=100]  #filter above arr4 which have true\n",
        "arr4[arr4<=100].size"
      ]
    },
    {
      "cell_type": "code",
      "execution_count": null,
      "metadata": {
        "id": "DdLqbW4mK837"
      },
      "outputs": [
        {
          "data": {
            "text/plain": [
              "246"
            ]
          },
          "execution_count": 24,
          "metadata": {},
          "output_type": "execute_result"
        }
      ],
      "source": [
        "len(arr4[arr4<=100])"
      ]
    },
    {
      "cell_type": "markdown",
      "metadata": {
        "id": "Fi6JND1wLE9A"
      },
      "source": [
        "creating 2 D random array"
      ]
    },
    {
      "cell_type": "code",
      "execution_count": null,
      "metadata": {
        "colab": {
          "base_uri": "https://localhost:8080/"
        },
        "id": "v_4yuROeLLNO",
        "outputId": "f31156f1-1f7d-4af9-99a0-e053e97bc5d0"
      },
      "outputs": [
        {
          "data": {
            "text/plain": [
              "array([[ 62, 117,  81, 118,  99, 106],\n",
              "       [ 57, 190,  46, 194,  76,  80],\n",
              "       [ 89, 180, 123,   8,  26, 123],\n",
              "       [134,  57, 193, 172, 116, 154],\n",
              "       [190, 198, 116,  51,  21, 185],\n",
              "       [138, 143, 116, 124,  42, 190],\n",
              "       [172,  31,  67, 191, 145,  71],\n",
              "       [ 95, 193, 120, 105,  94,  51],\n",
              "       [  9, 195, 104, 145,  18,  81],\n",
              "       [158, 194,  25, 144, 105, 141]], dtype=int32)"
            ]
          },
          "execution_count": 25,
          "metadata": {},
          "output_type": "execute_result"
        }
      ],
      "source": [
        "arr2 = np.random.randint(1,200,(10,6))\n",
        "arr2"
      ]
    },
    {
      "cell_type": "markdown",
      "metadata": {
        "id": "561hcXvwLewK"
      },
      "source": [
        "creating random 3 d array"
      ]
    },
    {
      "cell_type": "code",
      "execution_count": null,
      "metadata": {
        "colab": {
          "base_uri": "https://localhost:8080/"
        },
        "id": "q4s5UU08Lill",
        "outputId": "48b4a25e-79f3-4abf-90a2-675ac13d2ae0"
      },
      "outputs": [
        {
          "data": {
            "text/plain": [
              "array([[[176,  34,  81],\n",
              "        [118, 148, 177],\n",
              "        [  9, 145,  66],\n",
              "        [ 81, 111, 100],\n",
              "        [158,  74,  98],\n",
              "        [ 15,   9, 187]],\n",
              "\n",
              "       [[ 52,  34,   2],\n",
              "        [ 15, 190,   3],\n",
              "        [ 83, 146,  92],\n",
              "        [ 90,  51, 190],\n",
              "        [ 35,  60,  51],\n",
              "        [ 64, 127,  27]],\n",
              "\n",
              "       [[129,  90,   6],\n",
              "        [192, 173, 139],\n",
              "        [116,  65, 176],\n",
              "        [177, 195,  18],\n",
              "        [ 97, 127, 170],\n",
              "        [150, 186, 142]],\n",
              "\n",
              "       [[154,  60, 182],\n",
              "        [125, 184, 167],\n",
              "        [110, 199, 126],\n",
              "        [114, 118, 197],\n",
              "        [ 13, 180,  12],\n",
              "        [142,  37,  89]],\n",
              "\n",
              "       [[108,  60,   6],\n",
              "        [  3,  33, 150],\n",
              "        [ 77,  60,  55],\n",
              "        [161, 184, 110],\n",
              "        [164, 150,  96],\n",
              "        [166, 193,  19]],\n",
              "\n",
              "       [[ 75, 134,  53],\n",
              "        [ 59,   7, 150],\n",
              "        [  6, 123,  10],\n",
              "        [129, 127, 122],\n",
              "        [194, 139, 155],\n",
              "        [ 71, 157,  68]],\n",
              "\n",
              "       [[ 98, 105, 165],\n",
              "        [  2, 188, 170],\n",
              "        [114, 101,  35],\n",
              "        [ 63, 113,  46],\n",
              "        [ 50,  85,  77],\n",
              "        [189,  89,  16]],\n",
              "\n",
              "       [[124, 150,  22],\n",
              "        [162, 173,  33],\n",
              "        [  5,  86, 102],\n",
              "        [ 80,  19, 143],\n",
              "        [190,  55,  90],\n",
              "        [ 86, 122, 158]],\n",
              "\n",
              "       [[182, 150, 132],\n",
              "        [194,  71,  97],\n",
              "        [ 88, 156,  60],\n",
              "        [126, 147, 118],\n",
              "        [170, 183,  91],\n",
              "        [ 80,  29, 184]],\n",
              "\n",
              "       [[133,  26,  92],\n",
              "        [ 55,  69, 102],\n",
              "        [ 80,  31, 112],\n",
              "        [142,  69,  59],\n",
              "        [172,  31, 125],\n",
              "        [199,  24,  89]]], dtype=int32)"
            ]
          },
          "execution_count": 26,
          "metadata": {},
          "output_type": "execute_result"
        }
      ],
      "source": [
        "arr2 = np.random.randint(1,200,(10,6,3))\n",
        "arr2"
      ]
    },
    {
      "cell_type": "code",
      "execution_count": null,
      "metadata": {
        "colab": {
          "base_uri": "https://localhost:8080/"
        },
        "id": "4ueoR7cBLr9E",
        "outputId": "f0b1d446-eb8b-4b27-eae3-be04c0527efa"
      },
      "outputs": [
        {
          "data": {
            "text/plain": [
              "array([0., 0., 0., 0., 0., 0., 0., 0., 0., 0.])"
            ]
          },
          "execution_count": 27,
          "metadata": {},
          "output_type": "execute_result"
        }
      ],
      "source": [
        "arr = np.zeros(10)  #single dimensional array with 10 element having 0 value\n",
        "arr"
      ]
    },
    {
      "cell_type": "code",
      "execution_count": null,
      "metadata": {
        "colab": {
          "base_uri": "https://localhost:8080/"
        },
        "id": "75ddSsYpL7rP",
        "outputId": "132a0046-055b-407d-993f-6ffce0d03bc6"
      },
      "outputs": [
        {
          "data": {
            "text/plain": [
              "array([[0., 0., 0., 0., 0.],\n",
              "       [0., 0., 0., 0., 0.],\n",
              "       [0., 0., 0., 0., 0.],\n",
              "       [0., 0., 0., 0., 0.],\n",
              "       [0., 0., 0., 0., 0.],\n",
              "       [0., 0., 0., 0., 0.],\n",
              "       [0., 0., 0., 0., 0.],\n",
              "       [0., 0., 0., 0., 0.],\n",
              "       [0., 0., 0., 0., 0.],\n",
              "       [0., 0., 0., 0., 0.]])"
            ]
          },
          "execution_count": 28,
          "metadata": {},
          "output_type": "execute_result"
        }
      ],
      "source": [
        "arr = np.zeros((10,5))   #2 d array\n",
        "arr"
      ]
    },
    {
      "cell_type": "code",
      "execution_count": null,
      "metadata": {
        "id": "x8CHKK6dMIQC"
      },
      "outputs": [],
      "source": [
        "arr = np.ones(10)\n",
        "arr1 = np.ones((10,5))"
      ]
    },
    {
      "cell_type": "code",
      "execution_count": null,
      "metadata": {
        "colab": {
          "base_uri": "https://localhost:8080/"
        },
        "id": "jy3qzuLjMlIv",
        "outputId": "e16332f8-738b-477e-d6c2-6bc7e0fbc56d"
      },
      "outputs": [
        {
          "data": {
            "text/plain": [
              "[0, 1, 2, 3, 4, 5, 6, 7, 8, 9]"
            ]
          },
          "execution_count": 30,
          "metadata": {},
          "output_type": "execute_result"
        }
      ],
      "source": [
        "ls = list(range(0,10))   #creating a list in a range\n",
        "ls"
      ]
    },
    {
      "cell_type": "code",
      "execution_count": null,
      "metadata": {
        "colab": {
          "base_uri": "https://localhost:8080/"
        },
        "id": "9YmB8PThMyUv",
        "outputId": "fe6dda2f-ebad-4824-ef64-7c34fe481851"
      },
      "outputs": [
        {
          "data": {
            "text/plain": [
              "array([ 0,  1,  2,  3,  4,  5,  6,  7,  8,  9, 10, 11, 12, 13, 14, 15, 16,\n",
              "       17, 18, 19, 20, 21, 22, 23, 24, 25, 26, 27, 28, 29, 30, 31, 32, 33,\n",
              "       34, 35, 36, 37, 38, 39, 40, 41, 42, 43, 44, 45, 46, 47, 48, 49, 50,\n",
              "       51, 52, 53, 54, 55, 56, 57, 58, 59])"
            ]
          },
          "execution_count": 31,
          "metadata": {},
          "output_type": "execute_result"
        }
      ],
      "source": [
        "# arange create only single dimension array\n",
        "arr = np.arange(60)  #creating an array in a range\n",
        "arr"
      ]
    },
    {
      "cell_type": "markdown",
      "metadata": {
        "id": "f8JmLYzGNrw0"
      },
      "source": [
        "If we want to convert 1D into 2D array then we have to decide no. of rows and column"
      ]
    },
    {
      "cell_type": "code",
      "execution_count": null,
      "metadata": {
        "colab": {
          "base_uri": "https://localhost:8080/"
        },
        "id": "davjgeZtN-Sf",
        "outputId": "28ff003c-7567-42ed-a1db-f37979e89b0a"
      },
      "outputs": [
        {
          "data": {
            "text/plain": [
              "array([[ 0,  1,  2,  3,  4,  5],\n",
              "       [ 6,  7,  8,  9, 10, 11],\n",
              "       [12, 13, 14, 15, 16, 17],\n",
              "       [18, 19, 20, 21, 22, 23],\n",
              "       [24, 25, 26, 27, 28, 29],\n",
              "       [30, 31, 32, 33, 34, 35],\n",
              "       [36, 37, 38, 39, 40, 41],\n",
              "       [42, 43, 44, 45, 46, 47],\n",
              "       [48, 49, 50, 51, 52, 53],\n",
              "       [54, 55, 56, 57, 58, 59]])"
            ]
          },
          "execution_count": 32,
          "metadata": {},
          "output_type": "execute_result"
        }
      ],
      "source": [
        "arr = arr.reshape(10,6)\n",
        "# arr.reshape(10,7)  # can't divide 60 element into 10,7\n",
        "arr"
      ]
    },
    {
      "cell_type": "markdown",
      "metadata": {},
      "source": [
        "DAY 2 OF NUMPY"
      ]
    },
    {
      "cell_type": "markdown",
      "metadata": {},
      "source": [
        "Creation of 3D array"
      ]
    },
    {
      "cell_type": "code",
      "execution_count": null,
      "metadata": {},
      "outputs": [],
      "source": [
        "# Creation of 3D array\n",
        "# arr = [2D,2D,2D,2D....]\n",
        "# these are lists given below,not actual array\n",
        "arr1D = [1,2,3]\n",
        "arr2D = [[1,2,3],[1,2,3],[1,2,3]]\n",
        "arr3D = [[[1,2,3],[1,2,3],[1,2,3]],[[1,2,3],[1,2,3],[1,2,3]]]"
      ]
    },
    {
      "cell_type": "code",
      "execution_count": null,
      "metadata": {},
      "outputs": [],
      "source": [
        "arr = np.array(arr3D)"
      ]
    },
    {
      "cell_type": "code",
      "execution_count": 20,
      "metadata": {},
      "outputs": [
        {
          "data": {
            "text/plain": [
              "array([[[170, 156, 141],\n",
              "        [  2, 151, 124],\n",
              "        [110, 107, 172],\n",
              "        [170,  84,  22],\n",
              "        [ 60,  11,  94]],\n",
              "\n",
              "       [[  5,  28,  64],\n",
              "        [170, 116,  93],\n",
              "        [ 61,  99, 164],\n",
              "        [133,  69,  66],\n",
              "        [ 64, 188, 195]],\n",
              "\n",
              "       [[ 55, 102,  56],\n",
              "        [  1, 136,  89],\n",
              "        [145,  80, 165],\n",
              "        [117,  91, 192],\n",
              "        [ 82,  28,  28]]], dtype=int32)"
            ]
          },
          "execution_count": 20,
          "metadata": {},
          "output_type": "execute_result"
        }
      ],
      "source": [
        "arr3 = np.random.randint(1,200,(3,5,3))\n",
        "arr3\n",
        "# (table no. =3 , rows no.=5 , column no.=3)"
      ]
    },
    {
      "cell_type": "code",
      "execution_count": 21,
      "metadata": {},
      "outputs": [
        {
          "data": {
            "text/plain": [
              "(3, 5, 3)"
            ]
          },
          "execution_count": 21,
          "metadata": {},
          "output_type": "execute_result"
        }
      ],
      "source": [
        "arr3.shape"
      ]
    },
    {
      "cell_type": "markdown",
      "metadata": {},
      "source": [
        "Indexing of 3 dimension array :-\n",
        "indexing --> arr[table,row,column],\n",
        "             arr[table-start:end,row-start:end,column-start:end]"
      ]
    },
    {
      "cell_type": "code",
      "execution_count": 24,
      "metadata": {},
      "outputs": [
        {
          "data": {
            "text/plain": [
              "array([[102,  56],\n",
              "       [136,  89]], dtype=int32)"
            ]
          },
          "execution_count": 24,
          "metadata": {},
          "output_type": "execute_result"
        }
      ],
      "source": [
        "arr3[1,4,0:]\n",
        "arr3[2,:2,1:]"
      ]
    },
    {
      "cell_type": "code",
      "execution_count": 25,
      "metadata": {},
      "outputs": [
        {
          "data": {
            "text/plain": [
              "array([[  2, 151, 124],\n",
              "       [170, 116,  93],\n",
              "       [  1, 136,  89]], dtype=int32)"
            ]
          },
          "execution_count": 25,
          "metadata": {},
          "output_type": "execute_result"
        }
      ],
      "source": [
        "arr3[:,1,:]  #accessing first row of every table"
      ]
    },
    {
      "cell_type": "markdown",
      "metadata": {},
      "source": [
        "Some functionalaty of numpy"
      ]
    },
    {
      "cell_type": "code",
      "execution_count": 28,
      "metadata": {},
      "outputs": [],
      "source": [
        "arr = np.array([9,7,8])"
      ]
    },
    {
      "cell_type": "code",
      "execution_count": 30,
      "metadata": {},
      "outputs": [
        {
          "data": {
            "text/plain": [
              "np.int64(9)"
            ]
          },
          "execution_count": 30,
          "metadata": {},
          "output_type": "execute_result"
        }
      ],
      "source": [
        "# minimum of array\n",
        "min(arr)\n",
        "\n",
        "# maximum of array\n",
        "max(arr)"
      ]
    },
    {
      "cell_type": "code",
      "execution_count": 29,
      "metadata": {},
      "outputs": [
        {
          "data": {
            "text/plain": [
              "np.int64(24)"
            ]
          },
          "execution_count": 29,
          "metadata": {},
          "output_type": "execute_result"
        }
      ],
      "source": [
        "# mean of array\n",
        "np.mean(arr)\n",
        "\n",
        "# sum of array\n",
        "np.sum(arr)"
      ]
    },
    {
      "cell_type": "code",
      "execution_count": 32,
      "metadata": {},
      "outputs": [
        {
          "data": {
            "text/plain": [
              "np.int64(0)"
            ]
          },
          "execution_count": 32,
          "metadata": {},
          "output_type": "execute_result"
        }
      ],
      "source": [
        "# index of minimum element\n",
        "np.argmin(arr)  \n",
        "\n",
        "# index of maximum element\n",
        "np.argmax(arr)"
      ]
    },
    {
      "cell_type": "code",
      "execution_count": 35,
      "metadata": {},
      "outputs": [
        {
          "data": {
            "text/plain": [
              "array([7, 8, 9])"
            ]
          },
          "execution_count": 35,
          "metadata": {},
          "output_type": "execute_result"
        }
      ],
      "source": [
        "# sorting of array\n",
        "arr.sort()   #ascending order\n",
        "arr"
      ]
    },
    {
      "cell_type": "code",
      "execution_count": 36,
      "metadata": {},
      "outputs": [
        {
          "data": {
            "text/plain": [
              "array([9, 8, 7])"
            ]
          },
          "execution_count": 36,
          "metadata": {},
          "output_type": "execute_result"
        }
      ],
      "source": [
        "arr[::-1]  #descending order"
      ]
    },
    {
      "cell_type": "markdown",
      "metadata": {},
      "source": [
        "So till now we learn accessing , manipulating an 1d,2d,3d array.\n",
        "creating instant array and sum functions like min,max,sum,mean,sort,argmin,argmax etc."
      ]
    }
  ],
  "metadata": {
    "colab": {
      "provenance": []
    },
    "kernelspec": {
      "display_name": "Python 3",
      "name": "python3"
    },
    "language_info": {
      "codemirror_mode": {
        "name": "ipython",
        "version": 3
      },
      "file_extension": ".py",
      "mimetype": "text/x-python",
      "name": "python",
      "nbconvert_exporter": "python",
      "pygments_lexer": "ipython3",
      "version": "3.12.4"
    }
  },
  "nbformat": 4,
  "nbformat_minor": 0
}
